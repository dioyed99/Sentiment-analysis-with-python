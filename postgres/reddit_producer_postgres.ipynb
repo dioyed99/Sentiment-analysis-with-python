{
 "cells": [
  {
   "cell_type": "code",
   "execution_count": 6,
   "metadata": {},
   "outputs": [],
   "source": [
    "import praw\n",
    "import json\n",
    "from datetime import datetime\n",
    "from confluent_kafka import Producer"
   ]
  },
  {
   "cell_type": "code",
   "execution_count": 7,
   "metadata": {},
   "outputs": [],
   "source": [
    "user_agent = \"Reddit_Scrapper 1.0 by / u//FeatureChoice5036\"\n",
    "reddit = praw.Reddit(\n",
    "    client_id=\"zb_c3ATW7jp24qk_phIfbg\",\n",
    "    client_secret=\"6xTIjpqqxwo0E2UC8DiYId_YjAqv4Q\",\n",
    "    user_agent=user_agent\n",
    ")"
   ]
  },
  {
   "cell_type": "code",
   "execution_count": 8,
   "metadata": {},
   "outputs": [],
   "source": [
    "def get_tweets(keywords):\n",
    "    tweets = []\n",
    "    for keyword in keywords:\n",
    "        for submission in reddit.subreddit(keyword).hot(limit=None):\n",
    "            headlines = {}\n",
    "            headlines['id'] = submission.id\n",
    "            headlines['value'] = submission.title\n",
    "            headlines['date'] = datetime.utcfromtimestamp(submission.created_utc).strftime(\"%Y-%m-%d %H:%M:%S\")\n",
    "            headlines['topic'] = keyword\n",
    "            tweets.append(headlines)\n",
    "    return tweets"
   ]
  },
  {
   "cell_type": "code",
   "execution_count": 9,
   "metadata": {},
   "outputs": [],
   "source": [
    "def send_tweets(Tweets):\n",
    "    bootstrap_servers = \"localhost:9092\"\n",
    "    producer = Producer({'bootstrap.servers': bootstrap_servers})\n",
    "    for tweet in Tweets:\n",
    "        json_data = json.dumps(tweet)\n",
    "        producer.produce('reddit_postgres', value=json_data.encode('utf-8'))\n",
    "        print(tweet)\n",
    "    producer.flush()"
   ]
  },
  {
   "cell_type": "code",
   "execution_count": 10,
   "metadata": {},
   "outputs": [],
   "source": [
    "Keywords = [\"Naruto\", \"Onepiece\"]"
   ]
  },
  {
   "cell_type": "code",
   "execution_count": null,
   "metadata": {},
   "outputs": [],
   "source": [
    "while True:\n",
    "    tweets = get_tweets(Keywords)\n",
    "    send_tweets(tweets)"
   ]
  }
 ],
 "metadata": {
  "kernelspec": {
   "display_name": "Python 3",
   "language": "python",
   "name": "python3"
  },
  "language_info": {
   "codemirror_mode": {
    "name": "ipython",
    "version": 3
   },
   "file_extension": ".py",
   "mimetype": "text/x-python",
   "name": "python",
   "nbconvert_exporter": "python",
   "pygments_lexer": "ipython3",
   "version": "3.10.6"
  },
  "orig_nbformat": 4
 },
 "nbformat": 4,
 "nbformat_minor": 2
}
